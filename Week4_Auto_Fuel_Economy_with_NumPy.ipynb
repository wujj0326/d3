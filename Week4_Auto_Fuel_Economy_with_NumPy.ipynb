{
  "nbformat": 4,
  "nbformat_minor": 0,
  "metadata": {
    "colab": {
      "name": "Week4-Auto Fuel Economy with NumPy.ipynb",
      "provenance": [],
      "collapsed_sections": [],
      "include_colab_link": true
    },
    "kernelspec": {
      "name": "python3",
      "display_name": "Python 3"
    }
  },
  "cells": [
    {
      "cell_type": "markdown",
      "metadata": {
        "id": "view-in-github",
        "colab_type": "text"
      },
      "source": [
        "<a href=\"https://colab.research.google.com/github/wujj0326/d3/blob/master/Week4_Auto_Fuel_Economy_with_NumPy.ipynb\" target=\"_parent\"><img src=\"https://colab.research.google.com/assets/colab-badge.svg\" alt=\"Open In Colab\"/></a>"
      ]
    },
    {
      "cell_type": "markdown",
      "metadata": {
        "id": "FNKvy8F7d9gu",
        "colab_type": "text"
      },
      "source": [
        "#Week 4: NumPy Array\n",
        "\n",
        "This topic is about learning to work with Numerical Python (NumPy), one of the most popular libraries in Python. It makes it very easy to work with multi-dimensional numerical arrays and matrices with lending support for many mathematical functions.\n",
        "\n",
        "Please follow the following project to explore how NumPy would be useful in numerical data analysis."
      ]
    },
    {
      "cell_type": "markdown",
      "metadata": {
        "id": "KvRepKcJT9rE",
        "colab_type": "text"
      },
      "source": [
        "##Project: Auto Fuel Efficiency\n",
        "In this project we try to use all what we have learned so far, and mainly the numpy arrays to look into auto fuel efficiency and the factors that may contribute to that. Let's import our [datafile mpg.csv](https://drive.google.com/open?id=1u18kK0fEuXK7InOvpKTkz1yEbNlIM4i7), which contains fuel economy data for 398 cars. Here are the variables included in the dataset.\n",
        "* mpg: miles per gallon\n",
        "* cylinders: # of cylinders\n",
        "* displacement: engine displacement in liters\n",
        "* horsepower: engine horsepower\n",
        "* weight: vehicle weight\n",
        "* acceleration\n",
        "* model_year: year manufactured\n",
        "* origin: 1: North America;  2: Europe;  3: Asia and others\n",
        "* name: name of the car including make and model\n",
        "\n",
        "As for the first step, read open the file in a variable and read it as a csv file and load it into a list variable using the csv library. Checkout the first few items in the list. What does that look like?"
      ]
    },
    {
      "cell_type": "code",
      "metadata": {
        "id": "Oh2Hk8QA7xk-",
        "colab_type": "code",
        "outputId": "65092609-ae8b-46dd-9432-fad54ad18fca",
        "colab": {
          "resources": {
            "http://localhost:8080/nbextensions/google.colab/files.js": {
              "data": "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",
              "ok": true,
              "headers": [
                [
                  "content-type",
                  "application/javascript"
                ]
              ],
              "status": 200,
              "status_text": ""
            }
          },
          "base_uri": "https://localhost:8080/",
          "height": 75
        }
      },
      "source": [
        "from google.colab import files\n",
        "uploaded = files.upload()"
      ],
      "execution_count": 2,
      "outputs": [
        {
          "output_type": "display_data",
          "data": {
            "text/html": [
              "\n",
              "     <input type=\"file\" id=\"files-cf15e494-cb05-4eb3-a89f-f689b27fcc4d\" name=\"files[]\" multiple disabled />\n",
              "     <output id=\"result-cf15e494-cb05-4eb3-a89f-f689b27fcc4d\">\n",
              "      Upload widget is only available when the cell has been executed in the\n",
              "      current browser session. Please rerun this cell to enable.\n",
              "      </output>\n",
              "      <script src=\"/nbextensions/google.colab/files.js\"></script> "
            ],
            "text/plain": [
              "<IPython.core.display.HTML object>"
            ]
          },
          "metadata": {
            "tags": []
          }
        },
        {
          "output_type": "stream",
          "text": [
            "Saving mpg.csv to mpg.csv\n"
          ],
          "name": "stdout"
        }
      ]
    },
    {
      "cell_type": "code",
      "metadata": {
        "id": "THv7Kg-FORxU",
        "colab_type": "code",
        "outputId": "f4a1a3cb-3e92-4c0e-b275-989409f19f4c",
        "colab": {
          "base_uri": "https://localhost:8080/",
          "height": 351
        }
      },
      "source": [
        "# First you should download the mpg.csv dataset from the above link to your computer. Then use the LEFT sidebar menue on this page \n",
        "# (Files --> Upload) to upload the scv to your colab session. You would have to do this every time you close your colab session.\n",
        "# After you uploaded the csv to your colab seccion, use this code to import the csv file into a list\n",
        "import csv\n",
        "\n",
        "csvfile=open('mpg.csv') # open the file into a variable\n",
        "mpg = list(csv.reader(csvfile)) # read the file as csv and then transfer it to a list\n",
        "mpg[:3] # check out the first three items in our list.\n"
      ],
      "execution_count": 3,
      "outputs": [
        {
          "output_type": "execute_result",
          "data": {
            "text/plain": [
              "[['mpg',\n",
              "  'cylinders',\n",
              "  'displacement',\n",
              "  'horsepower',\n",
              "  'weight',\n",
              "  'acceleration',\n",
              "  'model_year',\n",
              "  'origin',\n",
              "  'name'],\n",
              " ['18',\n",
              "  '8',\n",
              "  '307',\n",
              "  '130',\n",
              "  '3504',\n",
              "  '12',\n",
              "  '70',\n",
              "  '1',\n",
              "  'chevrolet chevelle malibu'],\n",
              " ['15', '8', '350', '165', '3693', '11.5', '70', '1', 'buick skylark 320']]"
            ]
          },
          "metadata": {
            "tags": []
          },
          "execution_count": 3
        }
      ]
    },
    {
      "cell_type": "markdown",
      "metadata": {
        "id": "PPvOmEoUmVvW",
        "colab_type": "text"
      },
      "source": [
        "We do not need the column headings as the first item. Lets move the headings to another variable."
      ]
    },
    {
      "cell_type": "code",
      "metadata": {
        "id": "UbsFn1cO8XkW",
        "colab_type": "code",
        "colab": {}
      },
      "source": [
        "headings=mpg[0]\n",
        "mpg1=mpg[1:]\n",
        "# print(mpg)\n",
        "# print(mpg1)"
      ],
      "execution_count": 0,
      "outputs": []
    },
    {
      "cell_type": "markdown",
      "metadata": {
        "id": "wR6iu0tw1Q02",
        "colab_type": "text"
      },
      "source": [
        "Try transforming the mpg dataset to NumPy array. What happens? \n",
        "\n",
        "Fix the issue by moving the name column to another list. You may do this any way you can and print out both the names and the mpg datasets. Can you do it with list comprehension?"
      ]
    },
    {
      "cell_type": "code",
      "metadata": {
        "id": "tpZXtlb5G9qz",
        "colab_type": "code",
        "outputId": "830f6da3-579b-4280-a25c-13c66e093ee4",
        "colab": {
          "base_uri": "https://localhost:8080/",
          "height": 125
        }
      },
      "source": [
        "import numpy as np\n",
        "npmpg=np.array(mpg)\n",
        "# all of list have been tranformed to a 2D array,but array could only store one data type. Therefore, it has all been defaulted String\n",
        "print(mpg[:3])\n",
        "print(npmpg[:3])\n"
      ],
      "execution_count": 5,
      "outputs": [
        {
          "output_type": "stream",
          "text": [
            "[['mpg', 'cylinders', 'displacement', 'horsepower', 'weight', 'acceleration', 'model_year', 'origin', 'name'], ['18', '8', '307', '130', '3504', '12', '70', '1', 'chevrolet chevelle malibu'], ['15', '8', '350', '165', '3693', '11.5', '70', '1', 'buick skylark 320']]\n",
            "[['mpg' 'cylinders' 'displacement' 'horsepower' 'weight' 'acceleration'\n",
            "  'model_year' 'origin' 'name']\n",
            " ['18' '8' '307' '130' '3504' '12' '70' '1' 'chevrolet chevelle malibu']\n",
            " ['15' '8' '350' '165' '3693' '11.5' '70' '1' 'buick skylark 320']]\n"
          ],
          "name": "stdout"
        }
      ]
    },
    {
      "cell_type": "code",
      "metadata": {
        "id": "7XaNu4yaPZ5C",
        "colab_type": "code",
        "outputId": "cf7b5c68-f015-4abe-f0e8-680642af5f8d",
        "colab": {
          "base_uri": "https://localhost:8080/",
          "height": 52
        }
      },
      "source": [
        "names=[sub[-1] for sub in mpg1]\n",
        "mpg2=[sub[:8] for sub in mpg1]\n",
        "print(names[:3])\n",
        "print(mpg2[:3])"
      ],
      "execution_count": 6,
      "outputs": [
        {
          "output_type": "stream",
          "text": [
            "['chevrolet chevelle malibu', 'buick skylark 320', 'plymouth satellite']\n",
            "[['18', '8', '307', '130', '3504', '12', '70', '1'], ['15', '8', '350', '165', '3693', '11.5', '70', '1'], ['18', '8', '318', '150', '3436', '11', '70', '1']]\n"
          ],
          "name": "stdout"
        }
      ]
    },
    {
      "cell_type": "markdown",
      "metadata": {
        "id": "nGDL0NNH0q9M",
        "colab_type": "text"
      },
      "source": [
        "Try transforming the mpg dataset to NumPy array. What happens?\n",
        "\n",
        "To fix the issue, replace the '?' values with None which represents missing values in Python. Try again for transforing the mpg dataset to numpy array. Make sure the array items are of float format."
      ]
    },
    {
      "cell_type": "code",
      "metadata": {
        "id": "nQiFrg1FUV2u",
        "colab_type": "code",
        "outputId": "61b7aede-dc57-43f5-dabd-742eaa73cb32",
        "colab": {
          "base_uri": "https://localhost:8080/",
          "height": 70
        }
      },
      "source": [
        "npmpg2=np.array(mpg2)\n",
        "print(npmpg2[:3])\n",
        "\n",
        "# a = [i for i in mpg2 if '?' in i]\n",
        "# a = np.array(a)\n",
        "# b = [x if x !=\"?\" else None for x in a[0]]\n",
        "# print(a)\n",
        "# print(b)"
      ],
      "execution_count": 7,
      "outputs": [
        {
          "output_type": "stream",
          "text": [
            "[['18' '8' '307' '130' '3504' '12' '70' '1']\n",
            " ['15' '8' '350' '165' '3693' '11.5' '70' '1']\n",
            " ['18' '8' '318' '150' '3436' '11' '70' '1']]\n"
          ],
          "name": "stdout"
        }
      ]
    },
    {
      "cell_type": "code",
      "metadata": {
        "id": "myuG1egjv68u",
        "colab_type": "code",
        "outputId": "db6f00d7-0781-4e24-82e2-2d8c97fc2d3d",
        "colab": {
          "base_uri": "https://localhost:8080/",
          "height": 158
        }
      },
      "source": [
        "# mpg3=[x if x !=\"?\" else None for x in mpg2]\n",
        "mpg3 = [[x if x!='?' else None for x in i] if '?' in i else i for i in mpg2]\n",
        "# print([i for i in mpg3 if \"?\" in mpg3])\n",
        "npmpg3 = np.array(mpg3).astype(np.float32)\n",
        "\n",
        "print(mpg3[:3])\n",
        "print(npmpg3)"
      ],
      "execution_count": 8,
      "outputs": [
        {
          "output_type": "stream",
          "text": [
            "[['18', '8', '307', '130', '3504', '12', '70', '1'], ['15', '8', '350', '165', '3693', '11.5', '70', '1'], ['18', '8', '318', '150', '3436', '11', '70', '1']]\n",
            "[[ 18.    8.  307.  ...  12.   70.    1. ]\n",
            " [ 15.    8.  350.  ...  11.5  70.    1. ]\n",
            " [ 18.    8.  318.  ...  11.   70.    1. ]\n",
            " ...\n",
            " [ 32.    4.  135.  ...  11.6  82.    1. ]\n",
            " [ 28.    4.  120.  ...  18.6  82.    1. ]\n",
            " [ 31.    4.  119.  ...  19.4  82.    1. ]]\n"
          ],
          "name": "stdout"
        }
      ]
    },
    {
      "cell_type": "markdown",
      "metadata": {
        "id": "KcvxG-3i3lsk",
        "colab_type": "text"
      },
      "source": [
        "To make your data analysis easier, you may chose to read each column in a separate one dimensional array, and give them their heading names."
      ]
    },
    {
      "cell_type": "code",
      "metadata": {
        "id": "62N1l66wSM3K",
        "colab_type": "code",
        "colab": {}
      },
      "source": [
        "new_headings=headings[:8]\n",
        "\n",
        "# for i in range(8):\n",
        "#   str(new_headings[i])=[npmpg3[:,i]]\n",
        "\n",
        "# mpg=[npmpg3[:,0]]\n",
        "# cylinders=[npmpg3[:,1]]\n",
        "# displacement=[npmpg3[:,2]]\n",
        "# horsepower=[npmpg3[:,3]]\n",
        "# weight=[npmpg3[:,4]]\n",
        "# acceleration=[npmpg3[:,5]]\n",
        "# model_year=[npmpg3[:,6]]\n",
        "# origin=[npmpg3[:,7]]\n",
        "# def onedarray(num):\n",
        "#   data = npmpg3[:,num]\n",
        "#   return data\n",
        "  \n",
        "# for i in range(len(new_headings)):\n",
        "#   exec(f'{new_headings[i]}= onedarray(i)')\n",
        "  \n",
        "for i in range(len(new_headings)):\n",
        "  exec(f'{new_headings[i]}=npmpg3[:,i]')\n",
        "  \n",
        "# d={\n",
        "#      'mpg':[npmpg3[:,0]],\n",
        "#      'cylinders':[npmpg3[:,1]],\n",
        "#      'displacement':[npmpg3[:,2]],\n",
        "#      'horsepower':[npmpg3[:,3]],\n",
        "#      'weight':[npmpg3[:,4]],\n",
        "#      'acceleration':[npmpg3[:,5]],\n",
        "#      'model_year':[npmpg3[:,6]],\n",
        "#      'origin':[npmpg3[:,7]]\n",
        "# }\n"
      ],
      "execution_count": 0,
      "outputs": []
    },
    {
      "cell_type": "markdown",
      "metadata": {
        "id": "lEEHHhnc6Unn",
        "colab_type": "text"
      },
      "source": [
        "Calculate the average mpg for cars based on their number of cylendars. It means the average mpg for cars with 3, 4, 5, and other number of cylendars.\n",
        "\n",
        "Next, change the code to a function and use that function to calculate average mpg for each model_year."
      ]
    },
    {
      "cell_type": "code",
      "metadata": {
        "id": "VFQzZMeifGkl",
        "colab_type": "code",
        "colab": {
          "base_uri": "https://localhost:8080/",
          "height": 105
        },
        "outputId": "c7a6f600-342a-499a-9ecd-71502d708c83"
      },
      "source": [
        "def avg_mpg(x):\n",
        "  all_type=set(x)\n",
        "  for i in all_type:\n",
        "    print(i,mpg[x==i].mean()) \n",
        "# avg_mpg(model_year)\n",
        "\n",
        "def a2(x):  \n",
        "  all_type=set(x)\n",
        "  y=[]\n",
        "  for i in all_type:\n",
        "    y.append(mpg[x==i].mean())\n",
        "  return y\n",
        "#a2(cylinders)\n",
        "\n",
        "def a3(x):\n",
        "  all_type=set(x)\n",
        "  avg = [(i,mpg[x==i].mean()) for i in all_type]\n",
        "  return avg\n",
        "a3(cylinders)\n",
        "\n"
      ],
      "execution_count": 65,
      "outputs": [
        {
          "output_type": "execute_result",
          "data": {
            "text/plain": [
              "[(3.0, 20.55),\n",
              " (4.0, 29.286764),\n",
              " (5.0, 27.366667),\n",
              " (6.0, 19.985714),\n",
              " (8.0, 14.963106)]"
            ]
          },
          "metadata": {
            "tags": []
          },
          "execution_count": 65
        }
      ]
    },
    {
      "cell_type": "markdown",
      "metadata": {
        "id": "yuPjc3TC7Rzw",
        "colab_type": "text"
      },
      "source": [
        "Create a new column that includes only the make (manufacturer) of each car, like 'ford', 'chevy' and like that. Use the previous function and this new column to calculate the average mpg for each manufacturer."
      ]
    },
    {
      "cell_type": "code",
      "metadata": {
        "id": "9NbRzI1xjetr",
        "colab_type": "code",
        "colab": {
          "base_uri": "https://localhost:8080/",
          "height": 668
        },
        "outputId": "22d19d3b-369d-4084-867d-75fc7bbd3f2e"
      },
      "source": [
        "# print(names[0])\n",
        "new_name = [str(i).split(' ',1)[0] for i in names]\n",
        "#print(new_name)\n",
        "a3(np.array(new_name))"
      ],
      "execution_count": 66,
      "outputs": [
        {
          "output_type": "execute_result",
          "data": {
            "text/plain": [
              "[('pontiac', 20.0125),\n",
              " ('volvo', 21.116667),\n",
              " ('subaru', 30.525002),\n",
              " ('mercedes', 25.4),\n",
              " ('toyouta', 23.0),\n",
              " ('audi', 26.714285),\n",
              " ('chrysler', 17.266666),\n",
              " ('vokswagen', 29.8),\n",
              " ('chevrolet', 20.472094),\n",
              " ('opel', 25.75),\n",
              " ('maxda', 26.05),\n",
              " ('mercury', 19.118181),\n",
              " ('volkswagen', 29.106667),\n",
              " ('amc', 18.246428),\n",
              " ('datsun', 31.113045),\n",
              " ('capri', 25.0),\n",
              " ('saab', 23.9),\n",
              " ('hi', 9.0),\n",
              " ('triumph', 35.0),\n",
              " ('mazda', 30.86),\n",
              " ('chevy', 18.0),\n",
              " ('renault', 32.879997),\n",
              " ('peugeot', 23.6875),\n",
              " ('ford', 19.694118),\n",
              " ('honda', 33.76154),\n",
              " ('mercedes-benz', 23.25),\n",
              " ('oldsmobile', 21.1),\n",
              " ('dodge', 22.060715),\n",
              " ('nissan', 36.0),\n",
              " ('plymouth', 21.703228),\n",
              " ('toyota', 28.372),\n",
              " ('cadillac', 19.75),\n",
              " ('bmw', 23.75),\n",
              " ('vw', 39.016666),\n",
              " ('fiat', 28.9125),\n",
              " ('chevroelt', 16.0),\n",
              " ('buick', 19.182354)]"
            ]
          },
          "metadata": {
            "tags": []
          },
          "execution_count": 66
        }
      ]
    },
    {
      "cell_type": "markdown",
      "metadata": {
        "id": "x-yCCaYQ75M9",
        "colab_type": "text"
      },
      "source": [
        "Count the number of cars in the dataset for each manufacturer."
      ]
    },
    {
      "cell_type": "code",
      "metadata": {
        "id": "jnh6WP3sqWy6",
        "colab_type": "code",
        "colab": {
          "base_uri": "https://localhost:8080/",
          "height": 668
        },
        "outputId": "43961f60-2d97-4863-94c3-df0834ba299e"
      },
      "source": [
        "def a4(x):\n",
        "  all_type=set(x)\n",
        "  count = [(i,new_name.count(i)) for i in all_type]\n",
        "  return count\n",
        "a4(new_name)"
      ],
      "execution_count": 64,
      "outputs": [
        {
          "output_type": "execute_result",
          "data": {
            "text/plain": [
              "[('pontiac', 16),\n",
              " ('volvo', 6),\n",
              " ('subaru', 4),\n",
              " ('mercedes', 1),\n",
              " ('toyouta', 1),\n",
              " ('audi', 7),\n",
              " ('chrysler', 6),\n",
              " ('vokswagen', 1),\n",
              " ('chevrolet', 43),\n",
              " ('opel', 4),\n",
              " ('maxda', 2),\n",
              " ('mercury', 11),\n",
              " ('volkswagen', 15),\n",
              " ('amc', 28),\n",
              " ('datsun', 23),\n",
              " ('capri', 1),\n",
              " ('saab', 4),\n",
              " ('hi', 1),\n",
              " ('triumph', 1),\n",
              " ('mazda', 10),\n",
              " ('chevy', 3),\n",
              " ('renault', 5),\n",
              " ('peugeot', 8),\n",
              " ('ford', 51),\n",
              " ('honda', 13),\n",
              " ('mercedes-benz', 2),\n",
              " ('oldsmobile', 10),\n",
              " ('dodge', 28),\n",
              " ('nissan', 1),\n",
              " ('plymouth', 31),\n",
              " ('toyota', 25),\n",
              " ('cadillac', 2),\n",
              " ('bmw', 2),\n",
              " ('vw', 6),\n",
              " ('fiat', 8),\n",
              " ('chevroelt', 1),\n",
              " ('buick', 17)]"
            ]
          },
          "metadata": {
            "tags": []
          },
          "execution_count": 64
        }
      ]
    },
    {
      "cell_type": "markdown",
      "metadata": {
        "id": "jEAb2uzp8GXp",
        "colab_type": "text"
      },
      "source": [
        "Calculate the correlation beween mpg and other variables, like displacement, horsepower, wight and others. What are the most and least influential variables on auto fuel economy?"
      ]
    },
    {
      "cell_type": "code",
      "metadata": {
        "id": "HOGWoifbsO0c",
        "colab_type": "code",
        "colab": {
          "base_uri": "https://localhost:8080/",
          "height": 210
        },
        "outputId": "6aebf1cb-c441-4a2a-ada5-e0c419d91f6e"
      },
      "source": [
        "# np.corrcoef(mpg,horsepower)\n",
        "# np.corrcoef(mpg,npmpg3[:,1])\n",
        "# print(npmpg3[:,0])\n",
        "# for i in range(len(cheadings)):\n",
        "#    exec(f'{cheadings[i]}=np.corrcoef(mpg,npmpg3[:,i])')\n",
        "\n",
        "cc=[(new_headings[i],np.corrcoef(mpg,npmpg3[:,i])) for i in range(8)]\n",
        "print(cc)\n",
        "\n"
      ],
      "execution_count": 63,
      "outputs": [
        {
          "output_type": "stream",
          "text": [
            "[[ 1. nan]\n",
            " [nan nan]]\n",
            "[('mpg', array([[1., 1.],\n",
            "       [1., 1.]])), ('cylinders', array([[ 1.        , -0.77539629],\n",
            "       [-0.77539629,  1.        ]])), ('displacement', array([[ 1.        , -0.80420283],\n",
            "       [-0.80420283,  1.        ]])), ('horsepower', array([[ 1., nan],\n",
            "       [nan, nan]])), ('weight', array([[ 1.        , -0.83174093],\n",
            "       [-0.83174093,  1.        ]])), ('acceleration', array([[1.       , 0.4202889],\n",
            "       [0.4202889, 1.       ]])), ('model_year', array([[1.        , 0.57926714],\n",
            "       [0.57926714, 1.        ]])), ('origin', array([[1.        , 0.56345036],\n",
            "       [0.56345036, 1.        ]]))]\n"
          ],
          "name": "stdout"
        }
      ]
    },
    {
      "cell_type": "markdown",
      "metadata": {
        "id": "kKiugb_z8uQA",
        "colab_type": "text"
      },
      "source": [
        "Use matplotlib library to plot average mpg for each manufacturer.\n",
        "\n",
        "Next, change your code to a function that plots average mpg for every variable it is given. Use the function to plot average mpg for each origin."
      ]
    },
    {
      "cell_type": "code",
      "metadata": {
        "id": "pbYLmGgoczL3",
        "colab_type": "code",
        "colab": {
          "base_uri": "https://localhost:8080/",
          "height": 336
        },
        "outputId": "3ff12b0a-c438-485b-aa64-affeec3859b4"
      },
      "source": [
        "import matplotlib.pyplot as plt\n",
        "avg_make=a3(np.array(new_name))\n",
        "x=[avg_make[i][0] for i in range(len(avg_make))]\n",
        "y=[avg_make[i][1] for i in range(len(avg_make))]\n",
        "plt.plot(x,y)\n",
        "plt.xlabel='manufacturer'\n",
        "plt.ylabel='average'\n",
        "plt.xticks(rotation=90)\n",
        "plt.show()\n"
      ],
      "execution_count": 101,
      "outputs": [
        {
          "output_type": "display_data",
          "data": {
            "image/png": "[encoded data removed]",
            "text/plain": [
              "<Figure size 432x288 with 1 Axes>"
            ]
          },
          "metadata": {
            "tags": []
          }
        }
      ]
    },
    {
      "cell_type": "code",
      "metadata": {
        "id": "F7TUqqGPmna0",
        "colab_type": "code",
        "colab": {
          "base_uri": "https://localhost:8080/",
          "height": 336
        },
        "outputId": "61119e96-9fe9-4fba-b9ab-2787fbc92f4e"
      },
      "source": [
        "def plot_avg(x):\n",
        "  avg_in=a3(np.array(x))\n",
        "  x=[avg_in[i][0] for i in range(len(avg_make))]\n",
        "  y=[avg_in[i][1] for i in range(len(avg_make))]\n",
        "  plt.plot(x,y)\n",
        "  plt.xlabel='manufacturer'\n",
        "  plt.ylabel='average'\n",
        "  plt.xticks(rotation=90)\n",
        "  plt.show()\n",
        "  \n",
        "plot_avg(new_name)"
      ],
      "execution_count": 103,
      "outputs": [
        {
          "output_type": "display_data",
          "data": {
            "image/png": "[encoded data removed]",
            "text/plain": [
              "<Figure size 432x288 with 1 Axes>"
            ]
          },
          "metadata": {
            "tags": []
          }
        }
      ]
    }
  ]
}